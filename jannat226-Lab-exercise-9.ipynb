{
 "cells": [
  {
   "cell_type": "code",
   "execution_count": 2,
   "metadata": {},
   "outputs": [
    {
     "name": "stdout",
     "output_type": "stream",
     "text": [
      "Simple Indexing: 7\n",
      "Fancy Indexing: [2 3 6 8]\n"
     ]
    }
   ],
   "source": [
    "# Q1. Write a program to distinguish between Array Indexing and Fancy Indexing.\n",
    "\n",
    "import numpy as np\n",
    "arr = np.array([1, 2, 3, 4, 5, 6, 7, 8, 9])\n",
    " #select a single element\n",
    "simple_indexing = arr[6]\n",
    "\n",
    "print(\"Simple Indexing:\", simple_indexing)\n",
    "\n",
    "# select multiple elements\n",
    "fancy_indexing = arr[[1, 2, 5, 7]]\n",
    "\n",
    "print(\"Fancy Indexing:\",fancy_indexing)"
   ]
  },
  {
   "cell_type": "code",
   "execution_count": 3,
   "metadata": {},
   "outputs": [
    {
     "name": "stdout",
     "output_type": "stream",
     "text": [
      "[[ 1  2  3  4  5]\n",
      " [ 6  7  8  9 10]]\n",
      "~~~~~~~~~~~\n",
      "[2 3]\n",
      "~~~~~~~~~~~\n",
      "[7 8 9]\n",
      "~~~~~~~~~~~\n",
      "[[ 3  4  5]\n",
      " [ 8  9 10]]\n",
      "~~~~~~~~~~~\n",
      "[3]\n"
     ]
    }
   ],
   "source": [
    "# Q2. Execute the 2D array Slicing.\n",
    "arr = np.array([[1, 2, 3, 4, 5], [6, 7, 8, 9, 10]])\n",
    "print(arr)\n",
    "print(\"~~~~~~~~~~~\")\n",
    "print(arr[0, 1:3])\n",
    "print(\"~~~~~~~~~~~\")\n",
    "print(arr[1, 1:4])\n",
    "print(\"~~~~~~~~~~~\")\n",
    "print(arr[0:2, 2:5])\n",
    "print(\"~~~~~~~~~~~\")\n",
    "print(arr[0:1, 2])"
   ]
  },
  {
   "cell_type": "code",
   "execution_count": 32,
   "metadata": {},
   "outputs": [
    {
     "name": "stdout",
     "output_type": "stream",
     "text": [
      "[[[[[1 2 3 4]\n",
      "    [5 6 7 8]]]]]\n",
      "number of dimensions : 5\n"
     ]
    }
   ],
   "source": [
    "\n",
    "\n",
    "# Q3. Create the 5-Dimensional arrays using ‘ndmin’.\n",
    "arr = np.array([[1, 2, 3, 4],[5,6,7,8]], ndmin=5)\n",
    "\n",
    "print(arr)\n",
    "print('number of dimensions :', arr.ndim)"
   ]
  },
  {
   "cell_type": "code",
   "execution_count": 28,
   "metadata": {},
   "outputs": [
    {
     "name": "stdout",
     "output_type": "stream",
     "text": [
      "[[ 1  2  3]\n",
      " [ 4  5  6]\n",
      " [ 7  8  9]\n",
      " [10 11 12]]\n"
     ]
    }
   ],
   "source": [
    "\n",
    "# Q4. Reshape the array from 1-D to 2-D array.\n",
    "arr = np.array([1, 2, 3, 4, 5, 6, 7, 8, 9, 10, 11, 12])\n",
    "newarr = arr.reshape(4, 3)\n",
    "\n",
    "print(newarr)"
   ]
  },
  {
   "cell_type": "code",
   "execution_count": 4,
   "metadata": {},
   "outputs": [
    {
     "name": "stdout",
     "output_type": "stream",
     "text": [
      "[[1 2 3]\n",
      " [4 5 6]]\n"
     ]
    }
   ],
   "source": [
    "# Q5. Perform the Stack functions in Numpy arrays – Stack()\n",
    "\n",
    "arr1 = np.array([1, 2, 3])\n",
    "\n",
    "arr2 = np.array([4, 5, 6])\n",
    "\n",
    "arr = np.stack((arr1, arr2), axis=0)\n",
    "\n",
    "print(arr)"
   ]
  },
  {
   "cell_type": "code",
   "execution_count": 7,
   "metadata": {},
   "outputs": [
    {
     "name": "stdout",
     "output_type": "stream",
     "text": [
      "[1 2 3 4 5 6]\n"
     ]
    }
   ],
   "source": [
    "#  hstack()\n",
    "\n",
    "arr1 = np.array([1, 2, 3])\n",
    "\n",
    "arr2 = np.array([4, 5, 6])\n",
    "\n",
    "arr = np.hstack((arr1, arr2))\n",
    "\n",
    "print(arr)"
   ]
  },
  {
   "cell_type": "code",
   "execution_count": 33,
   "metadata": {},
   "outputs": [
    {
     "name": "stdout",
     "output_type": "stream",
     "text": [
      "[[1 2 3]\n",
      " [4 5 6]]\n"
     ]
    }
   ],
   "source": [
    "# vstack()\n",
    "\n",
    "arr1 = np.array([1, 2, 3])\n",
    "\n",
    "arr2 = np.array([4, 5, 6])\n",
    "\n",
    "arr = np.vstack((arr1, arr2))\n",
    "\n",
    "print(arr)"
   ]
  },
  {
   "cell_type": "code",
   "execution_count": 29,
   "metadata": {},
   "outputs": [
    {
     "name": "stdout",
     "output_type": "stream",
     "text": [
      "[[[1 4]\n",
      "  [2 5]\n",
      "  [3 6]]]\n"
     ]
    }
   ],
   "source": [
    "# dstack().\n",
    "arr1 = np.array([1, 2, 3])\n",
    "\n",
    "arr2 = np.array([4, 5, 6])\n",
    "\n",
    "arr = np.dstack((arr1, arr2))\n",
    "\n",
    "print(arr)"
   ]
  },
  {
   "cell_type": "code",
   "execution_count": 9,
   "metadata": {},
   "outputs": [
    {
     "name": "stdout",
     "output_type": "stream",
     "text": [
      "1\n",
      "[2 3]\n"
     ]
    }
   ],
   "source": [
    "# Q6. Perform the searchsort method in Numpy array.\n",
    "import numpy as np\n",
    "\n",
    "arr = np.array([6, 8, 9,7])\n",
    "\n",
    "x = np.searchsorted(arr, 7,side='left')\n",
    "\n",
    "print(x)\n",
    "\n",
    "arr = np.array([1, 3, 5, 7])\n",
    "\n",
    "x = np.searchsorted(arr, [5,7])\n",
    "\n",
    "\n",
    "print(x)"
   ]
  },
  {
   "cell_type": "code",
   "execution_count": 10,
   "metadata": {},
   "outputs": [
    {
     "name": "stdout",
     "output_type": "stream",
     "text": [
      "[('Kim', 20, 21.) ('Sam', 14, 29.) ('John', 17, 39.)]\n"
     ]
    }
   ],
   "source": [
    "\n",
    "# Q7. Create Numpy Structured array using your domain features.\n",
    "\n",
    "\n",
    "a = np.array([('Think Like A monk', 'Jay Shetty', 2019), ('BuildConfidence', 'Daniel Chadwick', 2000), ('Learn Programmin', 'Maria', 39.0)],\n",
    "       dtype=[('PodcastName', (np.str_, 10)), ('age', np.int32), ('weight', np.float64)])\n",
    "\n",
    "print(a)"
   ]
  },
  {
   "cell_type": "code",
   "execution_count": 14,
   "metadata": {},
   "outputs": [
    {
     "name": "stdout",
     "output_type": "stream",
     "text": [
      "  Languages  Year\n",
      "0         C  1972\n",
      "1       C++  1979\n",
      "2      Java  1996\n",
      "3    Python  1991\n",
      "  Languages  Year\n",
      "0         C  1972\n",
      "1       C++  1979\n",
      "2      Java  1996\n",
      "3    Python  1991\n"
     ]
    }
   ],
   "source": [
    "# Q8. Create Data frame using List and Dictionary.\n",
    "import pandas\n",
    "\n",
    "mydataset = {\n",
    "  'Languages': [\"C\", \"C++\", \"Java\", \"Python\"],\n",
    "  'Year': [1972, 1979, 1996, 1991]\n",
    "}\n",
    "\n",
    "myvar = pandas.DataFrame(mydataset) # Creating Dataframe from Dictionary\n",
    "print(myvar)\n",
    "\n",
    "mylist = [1972, 1979, 1996, 1991]\n",
    "myvar = pd.DataFrame(mylist, index =['a', 'b', 'c', 'd'],\n",
    "                                              columns =['Years']) # Dataframe using list with indexing\n",
    "print(myvar)\n"
   ]
  },
  {
   "cell_type": "code",
   "execution_count": 30,
   "metadata": {},
   "outputs": [
    {
     "name": "stdout",
     "output_type": "stream",
     "text": [
      "  Languages                Podcast-Name             Host  Year-of-release\n",
      "0   English           Think like a monk       Jay Shetty             2019\n",
      "1     Hindi              WhatsUp sister  Daniel Chadwick             2000\n",
      "2    French  learn Programming with fun            Maria             2020\n"
     ]
    },
    {
     "data": {
      "text/html": [
       "<div>\n",
       "<style scoped>\n",
       "    .dataframe tbody tr th:only-of-type {\n",
       "        vertical-align: middle;\n",
       "    }\n",
       "\n",
       "    .dataframe tbody tr th {\n",
       "        vertical-align: top;\n",
       "    }\n",
       "\n",
       "    .dataframe thead th {\n",
       "        text-align: right;\n",
       "    }\n",
       "</style>\n",
       "<table border=\"1\" class=\"dataframe\">\n",
       "  <thead>\n",
       "    <tr style=\"text-align: right;\">\n",
       "      <th></th>\n",
       "      <th>Languages</th>\n",
       "      <th>Podcast-Name</th>\n",
       "      <th>Host</th>\n",
       "      <th>Year-of-release</th>\n",
       "    </tr>\n",
       "  </thead>\n",
       "  <tbody>\n",
       "    <tr>\n",
       "      <th>0</th>\n",
       "      <td>English</td>\n",
       "      <td>Think like a monk</td>\n",
       "      <td>Jay Shetty</td>\n",
       "      <td>2019</td>\n",
       "    </tr>\n",
       "    <tr>\n",
       "      <th>1</th>\n",
       "      <td>Hindi</td>\n",
       "      <td>WhatsUp sister</td>\n",
       "      <td>Daniel Chadwick</td>\n",
       "      <td>2000</td>\n",
       "    </tr>\n",
       "    <tr>\n",
       "      <th>2</th>\n",
       "      <td>French</td>\n",
       "      <td>learn Programming with fun</td>\n",
       "      <td>Maria</td>\n",
       "      <td>2020</td>\n",
       "    </tr>\n",
       "  </tbody>\n",
       "</table>\n",
       "</div>"
      ],
      "text/plain": [
       "  Languages                Podcast-Name             Host  Year-of-release\n",
       "0   English           Think like a monk       Jay Shetty             2019\n",
       "1     Hindi              WhatsUp sister  Daniel Chadwick             2000\n",
       "2    French  learn Programming with fun            Maria             2020"
      ]
     },
     "execution_count": 30,
     "metadata": {},
     "output_type": "execute_result"
    }
   ],
   "source": [
    "# Q9. Create Data frame on your Domain area and perform the following operations to find and eliminate the\n",
    "# missing data from the dataset.\n",
    "# • isnull()\n",
    "# • notnull()\n",
    "# • dropna()\n",
    "# • fillna()\n",
    "# • replace()\n",
    "# • interpolate()\n",
    "mydataset = {\n",
    "  'Languages': [\"English\", \"Hindi\", \"French\"],\n",
    "  'Podcast-Name': [\"Think like a monk\", \"WhatsUp sister\", \"learn Programming with fun\"],\n",
    "  'Host':[\"Jay Shetty\",\"Daniel Chadwick\",\"Maria\"],\n",
    "  'Year-of-release':[2019,2000,2020]\n",
    "}\n",
    "\n",
    "myvar = pandas.DataFrame(mydataset) # Creating Dataframe from Dictionary with domain-online podcast\n",
    "print(myvar)\n",
    "myvar.isnull()\n",
    "myvar.notnull()\n",
    "myvar.dropna()\n",
    "# myvar.fillna()\n",
    "\n"
   ]
  },
  {
   "cell_type": "code",
   "execution_count": 31,
   "metadata": {},
   "outputs": [
    {
     "name": "stderr",
     "output_type": "stream",
     "text": [
      "/var/folders/2l/81m_7r0506l5xwcgb2gp407h0000gn/T/ipykernel_1665/3686585549.py:1: FutureWarning: DataFrame.replace without 'value' and with non-dict-like 'to_replace' is deprecated and will raise in a future version. Explicitly specify the new values instead.\n",
      "  myvar.replace()\n",
      "/var/folders/2l/81m_7r0506l5xwcgb2gp407h0000gn/T/ipykernel_1665/3686585549.py:2: FutureWarning: DataFrame.interpolate with object dtype is deprecated and will raise in a future version. Call obj.infer_objects(copy=False) before interpolating instead.\n",
      "  myvar.interpolate()\n"
     ]
    },
    {
     "data": {
      "text/html": [
       "<div>\n",
       "<style scoped>\n",
       "    .dataframe tbody tr th:only-of-type {\n",
       "        vertical-align: middle;\n",
       "    }\n",
       "\n",
       "    .dataframe tbody tr th {\n",
       "        vertical-align: top;\n",
       "    }\n",
       "\n",
       "    .dataframe thead th {\n",
       "        text-align: right;\n",
       "    }\n",
       "</style>\n",
       "<table border=\"1\" class=\"dataframe\">\n",
       "  <thead>\n",
       "    <tr style=\"text-align: right;\">\n",
       "      <th></th>\n",
       "      <th>Languages</th>\n",
       "      <th>Podcast-Name</th>\n",
       "      <th>Host</th>\n",
       "      <th>Year-of-release</th>\n",
       "    </tr>\n",
       "  </thead>\n",
       "  <tbody>\n",
       "    <tr>\n",
       "      <th>0</th>\n",
       "      <td>English</td>\n",
       "      <td>Think like a monk</td>\n",
       "      <td>Jay Shetty</td>\n",
       "      <td>2019</td>\n",
       "    </tr>\n",
       "    <tr>\n",
       "      <th>1</th>\n",
       "      <td>Hindi</td>\n",
       "      <td>WhatsUp sister</td>\n",
       "      <td>Daniel Chadwick</td>\n",
       "      <td>2000</td>\n",
       "    </tr>\n",
       "    <tr>\n",
       "      <th>2</th>\n",
       "      <td>French</td>\n",
       "      <td>learn Programming with fun</td>\n",
       "      <td>Maria</td>\n",
       "      <td>2020</td>\n",
       "    </tr>\n",
       "  </tbody>\n",
       "</table>\n",
       "</div>"
      ],
      "text/plain": [
       "  Languages                Podcast-Name             Host  Year-of-release\n",
       "0   English           Think like a monk       Jay Shetty             2019\n",
       "1     Hindi              WhatsUp sister  Daniel Chadwick             2000\n",
       "2    French  learn Programming with fun            Maria             2020"
      ]
     },
     "execution_count": 31,
     "metadata": {},
     "output_type": "execute_result"
    }
   ],
   "source": [
    "myvar.replace()\n",
    "myvar.interpolate()"
   ]
  },
  {
   "cell_type": "code",
   "execution_count": 34,
   "metadata": {},
   "outputs": [
    {
     "name": "stdout",
     "output_type": "stream",
     "text": [
      "DataFrame with Hierarchical Indexing:\n",
      "                      Name   Age  Gender  Score\n",
      "Class   Student                                \n",
      "Class A Student 1    Alice  20.0  Female   90.0\n",
      "        Student 2      Bob  21.0    Male    NaN\n",
      "Class B Student 1  Charlie   NaN    Male   75.0\n",
      "        Student 2    David  22.0    Male    NaN\n",
      "Class C Student 1      Eva  23.0  Female   88.0\n"
     ]
    }
   ],
   "source": [
    "# Q10. Perform the Hierarchical Indexing in the above created dataset.\n",
    "import pandas as pd\n",
    "import numpy as np\n",
    "\n",
    "# Create a DataFrame with synthetic student data\n",
    "data = {\n",
    "    'Name': ['Alice', 'Bob', 'Charlie', 'David', 'Eva'],\n",
    "    'Age': [20, 21, np.nan, 22, 23],\n",
    "    'Gender': ['Female', 'Male', 'Male', 'Male', 'Female'],\n",
    "    'Score': [90, np.nan, 75, np.nan, 88]\n",
    "}\n",
    "\n",
    "# Create a MultiIndex DataFrame with two levels of indexing\n",
    "arrays = [\n",
    "    ['Class A', 'Class A', 'Class B', 'Class B', 'Class C'],\n",
    "    ['Student 1', 'Student 2', 'Student 1', 'Student 2', 'Student 1']\n",
    "]\n",
    "\n",
    "index = pd.MultiIndex.from_arrays(arrays, names=('Class', 'Student'))\n",
    "\n",
    "df = pd.DataFrame(data, index=index)\n",
    "\n",
    "# Display the DataFrame with hierarchical indexing\n",
    "print(\"DataFrame with Hierarchical Indexing:\")\n",
    "print(df)"
   ]
  }
 ],
 "metadata": {
  "kernelspec": {
   "display_name": "Python 3",
   "language": "python",
   "name": "python3"
  },
  "language_info": {
   "codemirror_mode": {
    "name": "ipython",
    "version": 3
   },
   "file_extension": ".py",
   "mimetype": "text/x-python",
   "name": "python",
   "nbconvert_exporter": "python",
   "pygments_lexer": "ipython3",
   "version": "3.9.6"
  },
  "orig_nbformat": 4
 },
 "nbformat": 4,
 "nbformat_minor": 2
}
